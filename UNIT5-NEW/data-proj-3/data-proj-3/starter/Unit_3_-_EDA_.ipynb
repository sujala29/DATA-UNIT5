{
 "cells": [
  {
   "cell_type": "markdown",
   "id": "baa2d43d",
   "metadata": {},
   "source": [
    "# Unit 3 Project - Exploratory Data Analysis"
   ]
  },
  {
   "cell_type": "markdown",
   "id": "9a087192",
   "metadata": {},
   "source": [
    "## Part 1 - Univariate Analysis - Visualization"
   ]
  },
  {
   "cell_type": "markdown",
   "id": "cd658876",
   "metadata": {},
   "source": [
    "### Step 1 - Open Jupyter Notebook in New Virtual Environment"
   ]
  },
  {
   "cell_type": "markdown",
   "id": "40926806",
   "metadata": {},
   "source": [
    "###### This step should have been completed prior to opening the Jupyter Notebook. If it was not, create and activate your virtual environment, then restart your notebook within the venv. "
   ]
  },
  {
   "cell_type": "markdown",
   "id": "0f4e500c",
   "metadata": {},
   "source": [
    "### Step 2 - Load DataFrame and Explore Dataset"
   ]
  },
  {
   "cell_type": "code",
   "execution_count": 1,
   "id": "383bdc9e",
   "metadata": {},
   "outputs": [],
   "source": [
    "################################### TO DO #########################################\n",
    "####### FOLLOW PROJECT INSTRUCTIONS TO COMPLETE THIS STEP IN THE CELLS BELOW ######"
   ]
  },
  {
   "cell_type": "code",
   "execution_count": 2,
   "id": "b19e33b1",
   "metadata": {},
   "outputs": [],
   "source": [
    "# import pandas and numpy"
   ]
  },
  {
   "cell_type": "code",
   "execution_count": 3,
   "id": "9d6ad281",
   "metadata": {},
   "outputs": [],
   "source": [
    "# load salary.csv into dataframe"
   ]
  },
  {
   "cell_type": "code",
   "execution_count": 2,
   "id": "a48c191a",
   "metadata": {},
   "outputs": [],
   "source": [
    "# look at first few values of dataframe"
   ]
  },
  {
   "cell_type": "code",
   "execution_count": 3,
   "id": "327799c9",
   "metadata": {},
   "outputs": [],
   "source": [
    "# look at basic dataframe info"
   ]
  },
  {
   "cell_type": "markdown",
   "id": "7a9748f6",
   "metadata": {},
   "source": [
    "### Step 3 - Review Types of Basic Univariate Plots"
   ]
  },
  {
   "cell_type": "code",
   "execution_count": 6,
   "id": "de134166",
   "metadata": {},
   "outputs": [],
   "source": [
    "################################### TO DO #########################################\n",
    "####### FOLLOW PROJECT INSTRUCTIONS TO COMPLETE THIS STEP IN THE CELLS BELOW ######"
   ]
  },
  {
   "cell_type": "markdown",
   "id": "88e02be3",
   "metadata": {},
   "source": [
    "#### Fill in blanks with a brief description of each plot type:\n",
    "\n",
    "  \n",
    "- Histogram\n",
    "> [...]\n",
    "- Density Plot / KDE\n",
    "> [...]\n",
    "- Bar Chart\n",
    "> [...]\n",
    "- Line Plot\n",
    "> [...]\n",
    "- Univariate scatter plot\n",
    "> [...]\n",
    "- Violin Plot\n",
    "> [...]\n",
    "- Box Plot\n",
    "> [...]\n",
    "- Pie Chart\n",
    "> [...]\n",
    "- Rug Plot\n",
    "> [...]\n"
   ]
  },
  {
   "cell_type": "markdown",
   "id": "643f91a7",
   "metadata": {},
   "source": [
    "### Step 4 - Choose Which Plot(s) You Will Use for Each Variable"
   ]
  },
  {
   "cell_type": "code",
   "execution_count": 7,
   "id": "1a551ee5",
   "metadata": {},
   "outputs": [],
   "source": [
    "################################### TO DO #########################################\n",
    "####### FOLLOW PROJECT INSTRUCTIONS TO COMPLETE THIS STEP IN THE CELLS BELOW ######"
   ]
  },
  {
   "cell_type": "markdown",
   "id": "82f93c8f",
   "metadata": {},
   "source": [
    "#### Take a moment to plan what types of plots you will make for each variable  \n",
    "  \n",
    "  \n",
    "- age\n",
    "> plot type...\n",
    "- gender\n",
    "> plot type...\n",
    "- education\n",
    "> plot type...\n",
    "- industry\n",
    "> plot type...\n",
    "- industry experience\n",
    "> plot type...\n",
    "- salary\n",
    "> plot type..."
   ]
  },
  {
   "cell_type": "markdown",
   "id": "1f60f546",
   "metadata": {},
   "source": [
    "### Step 5 - Create Plots for Each Variable in Dataset"
   ]
  },
  {
   "cell_type": "code",
   "execution_count": 5,
   "id": "2104cf8c",
   "metadata": {},
   "outputs": [],
   "source": [
    "# import seaborn\n",
    "\n",
    "\n",
    "# set standard plot type as seaborn plot\n",
    "\n",
    "\n",
    "# import matplotlib\n",
    "\n",
    "\n",
    "# write command for plots to appear in jupyter cells automatically\n",
    "\n"
   ]
  },
  {
   "cell_type": "code",
   "execution_count": 9,
   "id": "7303b321",
   "metadata": {},
   "outputs": [],
   "source": [
    "################################### TO DO #########################################\n",
    "####### FOLLOW PROJECT INSTRUCTIONS TO COMPLETE THIS STEP IN THE CELLS BELOW ######"
   ]
  },
  {
   "cell_type": "markdown",
   "id": "ff6feb62",
   "metadata": {},
   "source": [
    "### Plot for 'age' column"
   ]
  },
  {
   "cell_type": "code",
   "execution_count": 6,
   "id": "32d5f3e6",
   "metadata": {
    "scrolled": false
   },
   "outputs": [],
   "source": [
    "# create plot for age column"
   ]
  },
  {
   "cell_type": "markdown",
   "id": "91b9a16c",
   "metadata": {},
   "source": [
    "##### Insights:\n",
    "\n",
    "[fill in with your observations from the visualization]"
   ]
  },
  {
   "cell_type": "markdown",
   "id": "8a7eb9f7",
   "metadata": {},
   "source": [
    "### Plot for 'industry' column"
   ]
  },
  {
   "cell_type": "code",
   "execution_count": 7,
   "id": "8e42ae95",
   "metadata": {},
   "outputs": [],
   "source": [
    "# create plot for industry column"
   ]
  },
  {
   "cell_type": "markdown",
   "id": "3c42c49c",
   "metadata": {},
   "source": [
    "##### Insights:\n",
    "\n",
    "[fill in obserevations from graph]"
   ]
  },
  {
   "cell_type": "markdown",
   "id": "d377bb4b",
   "metadata": {},
   "source": [
    "### Plot for 'salary' column"
   ]
  },
  {
   "cell_type": "code",
   "execution_count": 8,
   "id": "249f87db",
   "metadata": {},
   "outputs": [],
   "source": [
    "# create plot for salary column"
   ]
  },
  {
   "cell_type": "markdown",
   "id": "007c1a63",
   "metadata": {},
   "source": [
    "##### Insights:\n",
    "\n",
    "[fill in with your observations from the visualizations]"
   ]
  },
  {
   "cell_type": "markdown",
   "id": "7306d6d7",
   "metadata": {},
   "source": [
    "### Plot for 'industry_experience' column"
   ]
  },
  {
   "cell_type": "code",
   "execution_count": 9,
   "id": "59d08e86",
   "metadata": {},
   "outputs": [],
   "source": [
    "# create plot for industry experience column"
   ]
  },
  {
   "cell_type": "markdown",
   "id": "029da89d",
   "metadata": {},
   "source": [
    "##### Insights:\n",
    "\n",
    "[fill in with your observations from the visualization]"
   ]
  },
  {
   "cell_type": "markdown",
   "id": "c29d3747",
   "metadata": {},
   "source": [
    "### Plot for 'education' column"
   ]
  },
  {
   "cell_type": "code",
   "execution_count": 10,
   "id": "949e6d26",
   "metadata": {},
   "outputs": [],
   "source": [
    "# create plot for education levels"
   ]
  },
  {
   "cell_type": "markdown",
   "id": "643cb6f5",
   "metadata": {},
   "source": [
    "##### Insights:\n",
    "\n",
    "[fill in obserevations from graph]"
   ]
  },
  {
   "cell_type": "markdown",
   "id": "2644e3f4",
   "metadata": {},
   "source": [
    "### Plot for 'gender' column"
   ]
  },
  {
   "cell_type": "code",
   "execution_count": 11,
   "id": "1ce546d1",
   "metadata": {},
   "outputs": [],
   "source": [
    "# create plot for gender column"
   ]
  },
  {
   "cell_type": "markdown",
   "id": "aafd3de1",
   "metadata": {},
   "source": [
    "##### Insights:\n",
    "\n",
    "[fill in with your observations from the visualization]"
   ]
  },
  {
   "cell_type": "markdown",
   "id": "26bbf342",
   "metadata": {},
   "source": [
    "## Part 2 - Summary Statistics"
   ]
  },
  {
   "cell_type": "markdown",
   "id": "6e8d8bed",
   "metadata": {},
   "source": [
    "### Step 1 - Review Summary Statistics"
   ]
  },
  {
   "cell_type": "code",
   "execution_count": 22,
   "id": "640c3a9a",
   "metadata": {},
   "outputs": [],
   "source": [
    "################################### TO DO #########################################\n",
    "####### FOLLOW PROJECT INSTRUCTIONS TO COMPLETE THIS STEP IN THE CELLS BELOW ######"
   ]
  },
  {
   "cell_type": "markdown",
   "id": "a8397d6c",
   "metadata": {},
   "source": [
    "- mean\n",
    "> explanation\n",
    "- median\n",
    "> explanation\n",
    "- mode\n",
    "> explanation\n",
    "- central tendency\n",
    "> explanation\n",
    "- distribution\n",
    "> explanation\n",
    "- variance\n",
    "> explanation\n",
    "- standard deviation\n",
    "> explanation"
   ]
  },
  {
   "cell_type": "markdown",
   "id": "071813ce",
   "metadata": {},
   "source": [
    "### Step 2 - Find  & Report Summary Statistics For Numeric Variables"
   ]
  },
  {
   "cell_type": "code",
   "execution_count": 23,
   "id": "27de12ee",
   "metadata": {},
   "outputs": [],
   "source": [
    "################################### TO DO #########################################\n",
    "####### FOLLOW PROJECT INSTRUCTIONS TO COMPLETE THIS STEP IN THE CELLS BELOW ######"
   ]
  },
  {
   "cell_type": "markdown",
   "id": "8fbe124c",
   "metadata": {},
   "source": [
    "#### Age Summary Statistics"
   ]
  },
  {
   "cell_type": "code",
   "execution_count": 13,
   "id": "dcfe2a15",
   "metadata": {},
   "outputs": [],
   "source": [
    "# use .describe to get summary statistics for age column"
   ]
  },
  {
   "cell_type": "code",
   "execution_count": 15,
   "id": "7f9a7b6f",
   "metadata": {},
   "outputs": [],
   "source": [
    "# create boxplot to visualize age summary statistics"
   ]
  },
  {
   "cell_type": "markdown",
   "id": "bac0a897",
   "metadata": {},
   "source": [
    "- age **mean**\n",
    "> The mean age is [...]\n",
    "- age **median**\n",
    "> The median age is [...]\n",
    "- age **minimum**\n",
    "> The minimum age is [...]\n",
    "- age **maximum**\n",
    "> The maximum age is [...]\n",
    "- age **standard deviation**\n",
    "> The standard deviation is [...] "
   ]
  },
  {
   "cell_type": "markdown",
   "id": "0cf267f9",
   "metadata": {},
   "source": [
    "###### Reflection: How did mean and median differ above? Why do you think that is?\n",
    "\n",
    "[your answer here]"
   ]
  },
  {
   "cell_type": "markdown",
   "id": "6168d7c8",
   "metadata": {},
   "source": [
    "#### Salary Summary Statistics"
   ]
  },
  {
   "cell_type": "code",
   "execution_count": 16,
   "id": "5ec63d65",
   "metadata": {},
   "outputs": [],
   "source": [
    "# use .describe to get summary statistics for salary"
   ]
  },
  {
   "cell_type": "code",
   "execution_count": 18,
   "id": "37118ff1",
   "metadata": {
    "scrolled": true
   },
   "outputs": [],
   "source": [
    "# create boxplot to visualize salary summary statistics"
   ]
  },
  {
   "cell_type": "markdown",
   "id": "f7c9ff81",
   "metadata": {},
   "source": [
    "- Salary **mean**\n",
    "> The mean salary is [...]\n",
    "- Salary **median**\n",
    "> The median salary is [...]\n",
    "- Salary **minimum**\n",
    "> The minimum salary is [...]\n",
    "- Salary **maximum**\n",
    "> The maximum salary is [...]\n",
    "- Salary **standard deviation**\n",
    "> The standard deviation is [...]"
   ]
  },
  {
   "cell_type": "markdown",
   "id": "90bbbe7e",
   "metadata": {},
   "source": [
    "###### Reflection: How did mean and median differ above? Why do you think that is?\n",
    "\n",
    "[your answer here]"
   ]
  },
  {
   "cell_type": "markdown",
   "id": "64f1c14a",
   "metadata": {},
   "source": [
    "### Step 3 - Find Salary Summary Statistics By Industry"
   ]
  },
  {
   "cell_type": "code",
   "execution_count": 28,
   "id": "bb5ccb52",
   "metadata": {},
   "outputs": [],
   "source": [
    "################################### TO DO #########################################\n",
    "####### FOLLOW PROJECT INSTRUCTIONS TO COMPLETE THIS STEP IN THE CELLS BELOW ######"
   ]
  },
  {
   "cell_type": "code",
   "execution_count": 19,
   "id": "c7e92c1d",
   "metadata": {},
   "outputs": [],
   "source": [
    "# use groupby() and describe() to get salary summary statistics by industry"
   ]
  },
  {
   "cell_type": "code",
   "execution_count": 20,
   "id": "a364806e",
   "metadata": {},
   "outputs": [],
   "source": [
    "# create visualization with multiple boxplots to show salary summary statistics by industry"
   ]
  },
  {
   "cell_type": "markdown",
   "id": "fb0a29d8",
   "metadata": {},
   "source": [
    "##### Insights:\n",
    "\n",
    "[fill in with your observations from the analysis]"
   ]
  },
  {
   "cell_type": "markdown",
   "id": "9f54ff3c",
   "metadata": {},
   "source": [
    "### Step 4 - Find Salary Summary Statistics By Education"
   ]
  },
  {
   "cell_type": "code",
   "execution_count": 32,
   "id": "546016eb",
   "metadata": {},
   "outputs": [],
   "source": [
    "################################### TO DO #########################################\n",
    "####### FOLLOW PROJECT INSTRUCTIONS TO COMPLETE THIS STEP IN THE CELLS BELOW ######"
   ]
  },
  {
   "cell_type": "code",
   "execution_count": 22,
   "id": "5878a471",
   "metadata": {},
   "outputs": [],
   "source": [
    "# use groupby() and describe() to get salary summary statistics by education level"
   ]
  },
  {
   "cell_type": "code",
   "execution_count": 23,
   "id": "acc802f2",
   "metadata": {},
   "outputs": [],
   "source": [
    "# create visualization with multiple boxplots to show salary summary statistics by education level"
   ]
  },
  {
   "cell_type": "markdown",
   "id": "5bb88719",
   "metadata": {},
   "source": [
    "##### Insights:\n",
    "\n",
    "[fill in with your observations from the visualization]"
   ]
  },
  {
   "cell_type": "markdown",
   "id": "d90a7570",
   "metadata": {},
   "source": [
    "### Step 5 - Find Salary Summary Statistics by Gender"
   ]
  },
  {
   "cell_type": "code",
   "execution_count": 36,
   "id": "d7940bfb",
   "metadata": {},
   "outputs": [],
   "source": [
    "################################### TO DO #########################################\n",
    "####### FOLLOW PROJECT INSTRUCTIONS TO COMPLETE THIS STEP IN THE CELLS BELOW ######"
   ]
  },
  {
   "cell_type": "code",
   "execution_count": 24,
   "id": "5b5cb514",
   "metadata": {},
   "outputs": [],
   "source": [
    "# use groupby() and describe() to get salary summary statistics by gender"
   ]
  },
  {
   "cell_type": "code",
   "execution_count": 25,
   "id": "e5d6b7b6",
   "metadata": {},
   "outputs": [],
   "source": [
    "# create visualization with multiple boxplots to show summary statistics by gender"
   ]
  },
  {
   "cell_type": "markdown",
   "id": "beb4f03a",
   "metadata": {},
   "source": [
    "##### Insights:\n",
    "\n",
    "[fill in with your observations from the visualization]"
   ]
  },
  {
   "cell_type": "markdown",
   "id": "f8ba0017",
   "metadata": {},
   "source": [
    "## Part 3 - Looking for Relationships in Data"
   ]
  },
  {
   "cell_type": "markdown",
   "id": "3f336b3c",
   "metadata": {},
   "source": [
    "### Step 1 - Review Useful Tools for Bivariate Relationships"
   ]
  },
  {
   "cell_type": "code",
   "execution_count": 40,
   "id": "76950687",
   "metadata": {},
   "outputs": [],
   "source": [
    "################################### TO DO #########################################\n",
    "####### FOLLOW PROJECT INSTRUCTIONS TO COMPLETE THIS STEP IN THE CELLS BELOW ######"
   ]
  },
  {
   "cell_type": "markdown",
   "id": "ca276bc4",
   "metadata": {},
   "source": [
    "#### Fill in the blanks below with brief explanations of each type of plot listed  \n",
    "\n",
    "- **Categorical Data**\n",
    "> ***Contingency Table***\n",
    ">\n",
    ">[...]\n",
    ">\n",
    "> ***Clustered Bar Chart***\n",
    ">\n",
    ">[...]\n",
    "\n",
    "- **Mixed Data**\n",
    "> ***Individual Value Plot***\n",
    ">\n",
    ">[...]\n",
    ">\n",
    "> ***Strip Plot***\n",
    ">\n",
    ">[...]\n",
    "\n",
    "- **Quantitative Data**\n",
    "> ***Scatter plots***\n",
    ">\n",
    "> [...]"
   ]
  },
  {
   "cell_type": "markdown",
   "id": "4291af48",
   "metadata": {},
   "source": [
    "### Step 2 - Create Bivariate Plots & Tables"
   ]
  },
  {
   "cell_type": "markdown",
   "id": "a1026c3b",
   "metadata": {},
   "source": [
    "In the end of Part 2, you began looking at relationships between variables when you created boxplots which visualized the distribution of salary across different categories. In this step, you will make plots and visualizations to begin looking deeper for patterns and relationships between two variables. "
   ]
  },
  {
   "cell_type": "code",
   "execution_count": 41,
   "id": "2c7334d7",
   "metadata": {},
   "outputs": [],
   "source": [
    "################################### TO DO #########################################\n",
    "####### FOLLOW PROJECT INSTRUCTIONS TO COMPLETE THIS STEP IN THE CELLS BELOW ######"
   ]
  },
  {
   "cell_type": "markdown",
   "id": "4cdb8acb",
   "metadata": {},
   "source": [
    "### Use the Pandas Crosstab() function to compare categorical variables"
   ]
  },
  {
   "cell_type": "markdown",
   "id": "1f2325b9",
   "metadata": {},
   "source": [
    "#### crosstab of gender and education"
   ]
  },
  {
   "cell_type": "code",
   "execution_count": 27,
   "id": "10c27a5b",
   "metadata": {},
   "outputs": [],
   "source": [
    "# use pd.crosstab to count number of managers at each education level, grouped by gender"
   ]
  },
  {
   "cell_type": "markdown",
   "id": "41b10043",
   "metadata": {},
   "source": [
    "##### Insights:\n",
    "\n",
    "[fill in with your observations from the visualization]"
   ]
  },
  {
   "cell_type": "markdown",
   "id": "cd5f6bf8",
   "metadata": {},
   "source": [
    "### Strip plot between age and education"
   ]
  },
  {
   "cell_type": "code",
   "execution_count": 29,
   "id": "88b9e3b6",
   "metadata": {},
   "outputs": [],
   "source": [
    "# create strip plot for age and education"
   ]
  },
  {
   "cell_type": "markdown",
   "id": "6d5d3c6b",
   "metadata": {},
   "source": [
    "##### Insights:\n",
    "\n",
    "[fill in with your observations from the visualization]"
   ]
  },
  {
   "cell_type": "markdown",
   "id": "1e962141",
   "metadata": {},
   "source": [
    "### Scatterplot for age and salary"
   ]
  },
  {
   "cell_type": "code",
   "execution_count": 30,
   "id": "714580a6",
   "metadata": {},
   "outputs": [],
   "source": [
    "# create scatterplot for age and salary"
   ]
  },
  {
   "cell_type": "markdown",
   "id": "30f84d39",
   "metadata": {},
   "source": [
    "##### Insights:\n",
    "\n",
    "[fill in with your observations from the visualization]"
   ]
  },
  {
   "cell_type": "markdown",
   "id": "ec9eed9d",
   "metadata": {},
   "source": [
    "### Scatterplot for industry experience and salary"
   ]
  },
  {
   "cell_type": "code",
   "execution_count": 31,
   "id": "4e977c1e",
   "metadata": {
    "scrolled": true
   },
   "outputs": [],
   "source": [
    "# create scatterplot for industry experience and salary"
   ]
  },
  {
   "cell_type": "markdown",
   "id": "9b0dc883",
   "metadata": {},
   "source": [
    "##### Insights:\n",
    "\n",
    "[fill in with your observations from the visualization]"
   ]
  },
  {
   "cell_type": "markdown",
   "id": "e748463c",
   "metadata": {},
   "source": [
    "### Step 3 - Pick Two More Bivariate Relationships to Visualize"
   ]
  },
  {
   "cell_type": "code",
   "execution_count": 48,
   "id": "e36e82c9",
   "metadata": {},
   "outputs": [],
   "source": [
    "################################### TO DO #########################################\n",
    "####### FOLLOW PROJECT INSTRUCTIONS TO COMPLETE THIS STEP IN THE CELLS BELOW ######"
   ]
  },
  {
   "cell_type": "code",
   "execution_count": null,
   "id": "cb5d3917",
   "metadata": {},
   "outputs": [],
   "source": [
    "# create 1st visualization for bivariate relationship of your choice"
   ]
  },
  {
   "cell_type": "code",
   "execution_count": null,
   "id": "439513fe",
   "metadata": {},
   "outputs": [],
   "source": [
    "# create 2nd visualization for bivariate relationship of your choice"
   ]
  },
  {
   "cell_type": "markdown",
   "id": "97feb3bb",
   "metadata": {},
   "source": [
    "## Part 4 - Correlation & Hypothesis Testing"
   ]
  },
  {
   "cell_type": "markdown",
   "id": "73116470",
   "metadata": {},
   "source": [
    "### Step 1 - Review Correlation"
   ]
  },
  {
   "cell_type": "code",
   "execution_count": 49,
   "id": "31b3e5cb",
   "metadata": {},
   "outputs": [],
   "source": [
    "################################### TO DO #########################################\n",
    "####### FOLLOW PROJECT INSTRUCTIONS TO COMPLETE THIS STEP IN THE CELLS BELOW ######"
   ]
  },
  {
   "cell_type": "markdown",
   "id": "7cc9f053",
   "metadata": {},
   "source": [
    "#### Fill in blanks with brief description of the following terms:\n",
    "  \n",
    "  \n",
    "- **Correlation**\n",
    "> ***[...]***\n",
    "\n",
    "- **Correlation Coefficient**\n",
    ">***[...]***"
   ]
  },
  {
   "cell_type": "markdown",
   "id": "aa458808",
   "metadata": {},
   "source": [
    "### Step 2 - Review Hypothesis Testing & P-Value"
   ]
  },
  {
   "cell_type": "code",
   "execution_count": 50,
   "id": "9ef16a28",
   "metadata": {},
   "outputs": [],
   "source": [
    "################################### TO DO #########################################\n",
    "####### FOLLOW PROJECT INSTRUCTIONS TO COMPLETE THIS STEP IN THE CELLS BELOW ######"
   ]
  },
  {
   "cell_type": "markdown",
   "id": "72372aa0",
   "metadata": {},
   "source": [
    "#### Fill in blanks with brief description of the following terms:\n",
    "\n",
    "- **Hypothesis**\n",
    "> ***[...]***\n",
    "\n",
    "- **Null Hypothesis**\n",
    "> ***[...]***\n",
    "\n",
    "- **P-Value**\n",
    "> ***[...]***"
   ]
  },
  {
   "cell_type": "markdown",
   "id": "70d87c77",
   "metadata": {},
   "source": [
    "### Step 3 - Use Pearsonr & Spearmanr To Answer Questions About Correlation and P-Values"
   ]
  },
  {
   "cell_type": "markdown",
   "id": "a8eb3063",
   "metadata": {},
   "source": [
    "<h3 style='color:red;'> First, load 'salary_numeric.csv' - where education has been re-expressed as numeric variables.</h3>"
   ]
  },
  {
   "cell_type": "code",
   "execution_count": 32,
   "id": "39f2c28a",
   "metadata": {},
   "outputs": [],
   "source": [
    "# load salary_numeric.csv into dataframe where education levels have been re-expressed as numeric"
   ]
  },
  {
   "cell_type": "code",
   "execution_count": 51,
   "id": "2687b718",
   "metadata": {},
   "outputs": [],
   "source": [
    "################################### TO DO #########################################\n",
    "####### FOLLOW PROJECT INSTRUCTIONS TO COMPLETE THIS STEP IN THE CELLS BELOW ######"
   ]
  },
  {
   "cell_type": "code",
   "execution_count": 33,
   "id": "e437288d",
   "metadata": {},
   "outputs": [],
   "source": [
    "# import pearson and spearmanr methods from scipy.stats library"
   ]
  },
  {
   "cell_type": "markdown",
   "id": "5b412a9b",
   "metadata": {},
   "source": [
    "### What is the correlation between salary and education?"
   ]
  },
  {
   "cell_type": "markdown",
   "id": "b5695c8a",
   "metadata": {},
   "source": [
    "#### Your Hypothesis = [...]"
   ]
  },
  {
   "cell_type": "code",
   "execution_count": 34,
   "id": "b92e526e",
   "metadata": {},
   "outputs": [],
   "source": [
    "# calculate correlation and pvalue of salary and education with spearmanr method"
   ]
  },
  {
   "cell_type": "markdown",
   "id": "e0b33fa8",
   "metadata": {},
   "source": [
    "[interpret result]"
   ]
  },
  {
   "cell_type": "markdown",
   "id": "0b1ab9f0",
   "metadata": {},
   "source": [
    "#### Are these results statistically significant? How do you know?"
   ]
  },
  {
   "cell_type": "markdown",
   "id": "6dbbbeac",
   "metadata": {},
   "source": [
    "[answer]"
   ]
  },
  {
   "cell_type": "markdown",
   "id": "a05c6a59",
   "metadata": {},
   "source": [
    "### What is the correlation between salary and age?"
   ]
  },
  {
   "cell_type": "markdown",
   "id": "bd65d66c",
   "metadata": {},
   "source": [
    "#### Your Hypothesis [...]"
   ]
  },
  {
   "cell_type": "code",
   "execution_count": 36,
   "id": "59cfb7d9",
   "metadata": {},
   "outputs": [],
   "source": [
    "# calculate correlation and pvalue of salary and age with pearsonr method"
   ]
  },
  {
   "cell_type": "markdown",
   "id": "6c37d272",
   "metadata": {},
   "source": [
    "[interpret result]"
   ]
  },
  {
   "cell_type": "markdown",
   "id": "9ddb031a",
   "metadata": {},
   "source": [
    "#### Are these results statistically significant? How do you know? "
   ]
  },
  {
   "cell_type": "markdown",
   "id": "4e0e1e67",
   "metadata": {},
   "source": [
    "[answer]"
   ]
  },
  {
   "cell_type": "markdown",
   "id": "4d0de42f",
   "metadata": {},
   "source": [
    "### What is the correlation between salary and industry experience? "
   ]
  },
  {
   "cell_type": "markdown",
   "id": "a8076452",
   "metadata": {},
   "source": [
    "#### Your Hypothesis = [...]"
   ]
  },
  {
   "cell_type": "code",
   "execution_count": 38,
   "id": "b594af02",
   "metadata": {},
   "outputs": [],
   "source": [
    "# calculate correlation and pvalue of salary and industry experience with pearsonr method"
   ]
  },
  {
   "cell_type": "markdown",
   "id": "1b3ee60a",
   "metadata": {},
   "source": [
    "[interpret result]"
   ]
  },
  {
   "cell_type": "markdown",
   "id": "bc438c97",
   "metadata": {},
   "source": [
    "#### Are these results statistically significant? How do you know?"
   ]
  },
  {
   "cell_type": "markdown",
   "id": "6414b406",
   "metadata": {},
   "source": [
    "[answer]"
   ]
  },
  {
   "cell_type": "markdown",
   "id": "42594762",
   "metadata": {},
   "source": [
    "### Step 4 - Report Findings"
   ]
  },
  {
   "cell_type": "code",
   "execution_count": 57,
   "id": "99864d47",
   "metadata": {},
   "outputs": [],
   "source": [
    "################################### TO DO #########################################\n",
    "####### FOLLOW PROJECT INSTRUCTIONS TO COMPLETE THIS STEP IN THE CELLS BELOW ######"
   ]
  },
  {
   "cell_type": "markdown",
   "id": "bc3d1db6",
   "metadata": {},
   "source": [
    "### What was the null hypothesis for the relationships between education and salary, age and salary, and industry experience and salary?"
   ]
  },
  {
   "cell_type": "markdown",
   "id": "1b0aeec2",
   "metadata": {},
   "source": [
    "[answer]"
   ]
  },
  {
   "cell_type": "markdown",
   "id": "ad7fe6fc",
   "metadata": {},
   "source": [
    "### Can you reject the null hypothesis for any of the relationships you explored above?"
   ]
  },
  {
   "cell_type": "markdown",
   "id": "388dc3b3",
   "metadata": {},
   "source": [
    "[answer]"
   ]
  },
  {
   "cell_type": "markdown",
   "id": "e584db19",
   "metadata": {},
   "source": [
    "## Part 5 - Multivariate Analysis"
   ]
  },
  {
   "cell_type": "markdown",
   "id": "13194851",
   "metadata": {},
   "source": [
    "### Step 1 - Review Types of Multivariate Analysis"
   ]
  },
  {
   "cell_type": "code",
   "execution_count": 58,
   "id": "3c0d78a3",
   "metadata": {},
   "outputs": [],
   "source": [
    "################################### TO DO #########################################\n",
    "####### FOLLOW PROJECT INSTRUCTIONS TO COMPLETE THIS STEP IN THE CELLS BELOW ######"
   ]
  },
  {
   "cell_type": "markdown",
   "id": "7546cd75",
   "metadata": {},
   "source": [
    "#### Fill in the blanks with a brief description of each plot type \n",
    "  \n",
    "- pairplots\n",
    "> [...]\n",
    "- paired scatter plots\n",
    "> [...]\n",
    "- correlation matrix\n",
    "> [...]\n",
    "- heatmap\n",
    "> [...]"
   ]
  },
  {
   "cell_type": "markdown",
   "id": "b661be1d",
   "metadata": {},
   "source": [
    "### Step 2 - Create Pairplots for Dataset"
   ]
  },
  {
   "cell_type": "code",
   "execution_count": 59,
   "id": "e7ee98ae",
   "metadata": {},
   "outputs": [],
   "source": [
    "################################### TO DO #########################################\n",
    "####### FOLLOW PROJECT INSTRUCTIONS TO COMPLETE THIS STEP IN THE CELLS BELOW ######"
   ]
  },
  {
   "cell_type": "markdown",
   "id": "ead32e5e",
   "metadata": {},
   "source": [
    "#### pairplot of whole dataframe"
   ]
  },
  {
   "cell_type": "code",
   "execution_count": 39,
   "id": "1aebe013",
   "metadata": {},
   "outputs": [],
   "source": [
    "# create pairplot of dataframe"
   ]
  },
  {
   "cell_type": "markdown",
   "id": "f7be1281",
   "metadata": {},
   "source": [
    "##### Insights:\n",
    "\n",
    "[fill in with your observations from the visualization]"
   ]
  },
  {
   "cell_type": "markdown",
   "id": "3bc4a804",
   "metadata": {},
   "source": [
    "### Step 3 - Create Other Multivariate Plots"
   ]
  },
  {
   "cell_type": "code",
   "execution_count": 61,
   "id": "4f9c1d0d",
   "metadata": {},
   "outputs": [],
   "source": [
    "################################### TO DO #########################################\n",
    "####### FOLLOW PROJECT INSTRUCTIONS TO COMPLETE THIS STEP IN THE CELLS BELOW ######"
   ]
  },
  {
   "cell_type": "markdown",
   "id": "75dde479",
   "metadata": {},
   "source": [
    "### Correlation matrix"
   ]
  },
  {
   "cell_type": "code",
   "execution_count": 40,
   "id": "01154098",
   "metadata": {},
   "outputs": [],
   "source": [
    "# use .corr() to create correlation matrix"
   ]
  },
  {
   "cell_type": "markdown",
   "id": "dc3253a8",
   "metadata": {},
   "source": [
    "### Heatmap of correlation matrix"
   ]
  },
  {
   "cell_type": "code",
   "execution_count": 41,
   "id": "45bd0d02",
   "metadata": {},
   "outputs": [],
   "source": [
    "# create heatmap visualization of correlation matrix"
   ]
  },
  {
   "cell_type": "markdown",
   "id": "fd541bc6",
   "metadata": {},
   "source": [
    "##### Insights:\n",
    "\n",
    "[fill in with your observations from the visualization]"
   ]
  },
  {
   "cell_type": "markdown",
   "id": "0cae87c2",
   "metadata": {},
   "source": [
    "#### Crosstab of average salary grouped by education and industry"
   ]
  },
  {
   "cell_type": "code",
   "execution_count": 42,
   "id": "4bdd8071",
   "metadata": {},
   "outputs": [],
   "source": [
    "# use pd.crosstab() to calculate mean salary in each industry grouped by education level"
   ]
  },
  {
   "cell_type": "markdown",
   "id": "e6521fe3",
   "metadata": {},
   "source": [
    "#### Heatmap of crosstab of average salary grouped by education and industry"
   ]
  },
  {
   "cell_type": "code",
   "execution_count": 43,
   "id": "7fd953cb",
   "metadata": {},
   "outputs": [],
   "source": [
    "# save above result to new variable"
   ]
  },
  {
   "cell_type": "code",
   "execution_count": 44,
   "id": "3ec99c42",
   "metadata": {},
   "outputs": [],
   "source": [
    "# create heatmap with annotated mean salary in each industry and education level"
   ]
  },
  {
   "cell_type": "markdown",
   "id": "1f4b8d07",
   "metadata": {},
   "source": [
    "##### Insights:\n",
    "\n",
    "[fill in with your observations from the visualization]"
   ]
  },
  {
   "cell_type": "markdown",
   "id": "5357875a",
   "metadata": {},
   "source": [
    "### Step 4 - Report Findings"
   ]
  },
  {
   "cell_type": "code",
   "execution_count": 45,
   "id": "65e1f49a",
   "metadata": {},
   "outputs": [],
   "source": [
    "################################### TO DO #########################################\n",
    "  \n",
    "####### FOLLOW PROJECT INSTRUCTIONS TO COMPLETE THIS STEP IN THE CELLS BELOW ######"
   ]
  },
  {
   "cell_type": "markdown",
   "id": "92917a33",
   "metadata": {},
   "source": [
    "###### Along the way throughout this project, you should have been taking notes on insights from your exploratory data analysis. Take some time in a markdown cell below to write a couple paragraphs summarizing any observations, insights, conclusions, or further questions you have based on the exploratory analysis you conducted this week. "
   ]
  },
  {
   "cell_type": "markdown",
   "id": "84b74615",
   "metadata": {},
   "source": [
    "[...]"
   ]
  },
  {
   "cell_type": "markdown",
   "id": "9272556f",
   "metadata": {},
   "source": [
    "### Step 5 - Submit Project"
   ]
  },
  {
   "cell_type": "markdown",
   "id": "4d42b2c2",
   "metadata": {},
   "source": [
    "###### Push to GitHub, record brief code review video, and share links with Tech Lead and SME. "
   ]
  }
 ],
 "metadata": {
  "kernelspec": {
   "display_name": "Python 3 (ipykernel)",
   "language": "python",
   "name": "python3"
  },
  "language_info": {
   "codemirror_mode": {
    "name": "ipython",
    "version": 3
   },
   "file_extension": ".py",
   "mimetype": "text/x-python",
   "name": "python",
   "nbconvert_exporter": "python",
   "pygments_lexer": "ipython3",
   "version": "3.9.12"
  }
 },
 "nbformat": 4,
 "nbformat_minor": 5
}
